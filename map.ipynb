{
  "nbformat": 4,
  "nbformat_minor": 0,
  "metadata": {
    "colab": {
      "provenance": [],
      "authorship_tag": "ABX9TyN6mkg60mEv+lYsumv4vBsW",
      "include_colab_link": true
    },
    "kernelspec": {
      "name": "python3",
      "display_name": "Python 3"
    },
    "language_info": {
      "name": "python"
    }
  },
  "cells": [
    {
      "cell_type": "markdown",
      "metadata": {
        "id": "view-in-github",
        "colab_type": "text"
      },
      "source": [
        "<a href=\"https://colab.research.google.com/github/AxelCodaeMolina/Parids-calls/blob/main/map.ipynb\" target=\"_parent\"><img src=\"https://colab.research.google.com/assets/colab-badge.svg\" alt=\"Open In Colab\"/></a>"
      ]
    },
    {
      "cell_type": "code",
      "source": [
        "import json\n",
        "import pandas as pd\n",
        "from shapely.geometry import Point\n",
        "from itertools import combinations\n",
        "from shapely.ops import unary_union\n",
        "import geopandas as gpd\n",
        "import numpy as np\n",
        "\n",
        "# Function to read GeoJSON data from a file\n",
        "def read_geojson(file_path):\n",
        "    with open(file_path, 'r', encoding='utf-8') as file:\n",
        "        return json.load(file)\n",
        "\n",
        "# Read the GeoJSON data from the file\n",
        "file_path = '/content/CTMap.geojson'\n",
        "geojson_data = read_geojson(file_path)\n",
        "\n",
        "# Extract coordinates from GeoJSON\n",
        "points = []\n",
        "for feature in geojson_data['features']:\n",
        "    point_coords = feature['geometry']['coordinates']\n",
        "    points.append({'name': feature['properties']['name'], 'coordinates': point_coords})\n",
        "\n",
        "# Create a DataFrame with coordinates\n",
        "df = pd.DataFrame(points)\n",
        "df['geometry'] = df['coordinates'].apply(Point)\n",
        "\n",
        "# Convert to a GeoDataFrame\n",
        "gdf = gpd.GeoDataFrame(df, geometry='geometry', crs='EPSG:4326')\n",
        "\n",
        "# Reproject to a local projection\n",
        "gdf = gdf.to_crs('EPSG:32631')\n",
        "\n",
        "# Function to calculate pairwise distances in meters and filter <= 500 meters\n",
        "def calculate_pairwise_distances(gdf):\n",
        "    distances = []\n",
        "    for i, j in combinations(gdf.index, 2):\n",
        "        distance = gdf.loc[i, 'geometry'].distance(gdf.loc[j, 'geometry'])\n",
        "        if distance <= 500:  # Filter distances <= 500 meters\n",
        "            distances.append({\n",
        "                'point1': gdf.loc[i, 'name'],\n",
        "                'point2': gdf.loc[j, 'name'],\n",
        "                'distance_meters': distance\n",
        "            })\n",
        "    return pd.DataFrame(distances)\n",
        "\n",
        "# Calculate pairwise distances and filter <= 500 meters\n",
        "distances_df = calculate_pairwise_distances(gdf)\n",
        "\n",
        "# Find the minimum distance for each point\n",
        "min_distances = distances_df.groupby('point1')['distance_meters'].min()\n",
        "\n",
        "# Calculate the average minimum distance in meters\n",
        "avg_min_distance_meters = min_distances.mean()\n",
        "\n",
        "# Calculate the standard deviation (SD) of the minimum distances\n",
        "std_min_distance = min_distances.std()\n",
        "\n",
        "# Calculate the standard error (SE) of the minimum distances\n",
        "se_min_distance = std_min_distance / np.sqrt(len(min_distances))\n",
        "\n",
        "# Output the closest distances for verification\n",
        "closest_distances = distances_df.sort_values(by='distance_meters').head()\n",
        "print(\"Closest distances in meters:\")\n",
        "print(closest_distances)\n",
        "\n",
        "# Output the average minimum distance in meters\n",
        "print(f\"\\nAverage minimum distance between points in meters: {avg_min_distance_meters} meters\")\n",
        "\n",
        "# Output the standard deviation of the minimum distances\n",
        "print(f\"Standard deviation of the minimum distances: {std_min_distance} meters\")\n",
        "\n",
        "# Output the standard error of the minimum distances\n",
        "print(f\"Standard error of the minimum distances: {se_min_distance} meters\")\n",
        "\n",
        "# Calculate the convex hull of the points\n",
        "convex_hull = gdf.unary_union.convex_hull\n",
        "\n",
        "# Calculate the area of the convex hull\n",
        "area = convex_hull.area\n",
        "\n",
        "# Output the area\n",
        "print(f\"The area covered by the points is: {area} square meters\")\n"
      ],
      "metadata": {
        "colab": {
          "base_uri": "https://localhost:8080/"
        },
        "id": "rNcLhcTNh15u",
        "outputId": "55c1a96f-1d9b-41bd-d6f1-cd03b7c27c45"
      },
      "execution_count": 1,
      "outputs": [
        {
          "output_type": "stream",
          "name": "stdout",
          "text": [
            "Closest distances in meters:\n",
            "            point1        point2  distance_meters\n",
            "1360  Marqueur 529  Marqueur 530        44.534568\n",
            "299    Marqueur 89   Marqueur 90        84.882866\n",
            "377   Marqueur 114  Marqueur 120        89.294875\n",
            "317    Marqueur 94   Marqueur 96        90.132277\n",
            "382   Marqueur 115  Marqueur 120        94.935522\n",
            "\n",
            "Average minimum distance between points in meters: 220.62656411664315 meters\n",
            "Standard deviation of the minimum distances: 54.07090348429101 meters\n",
            "Standard error of the minimum distances: 2.0278173100771535 meters\n",
            "The area covered by the points is: 743208563.2576514 square meters\n"
          ]
        }
      ]
    }
  ]
}